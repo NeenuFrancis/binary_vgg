{
  "cells": [
    {
      "cell_type": "markdown",
      "metadata": {
        "id": "2ubY8d2TX_XN"
      },
      "source": [
        "# VGG-16(Visual Geometry Group -16)"
      ]
    },
    {
      "cell_type": "code",
      "execution_count": 1,
      "metadata": {
        "colab": {
          "base_uri": "https://localhost:8080/"
        },
        "id": "WjCPcT6DYP_D",
        "outputId": "e2b9b863-cb1d-4b74-eb8e-ad08173e0d13"
      },
      "outputs": [
        {
          "output_type": "stream",
          "name": "stdout",
          "text": [
            "Cloning into 'flowers_multiclass_CNN'...\n",
            "remote: Enumerating objects: 1151, done.\u001b[K\n",
            "remote: Counting objects: 100% (480/480), done.\u001b[K\n",
            "remote: Compressing objects: 100% (462/462), done.\u001b[K\n",
            "remote: Total 1151 (delta 32), reused 429 (delta 16), pack-reused 671\u001b[K\n",
            "Receiving objects: 100% (1151/1151), 55.05 MiB | 37.48 MiB/s, done.\n",
            "Resolving deltas: 100% (57/57), done.\n"
          ]
        }
      ],
      "source": [
        "!git clone \"https://github.com/NeenuFrancis/flowers_multiclass_CNN.git\"\n"
      ]
    },
    {
      "cell_type": "markdown",
      "metadata": {
        "id": "U-xp10RWZKqk"
      },
      "source": [
        "### Importing the libraries"
      ]
    },
    {
      "cell_type": "code",
      "execution_count": 42,
      "metadata": {
        "id": "xyE4W1W2ZMD7"
      },
      "outputs": [],
      "source": [
        "import keras,os\n",
        "from keras.models import Sequential\n",
        "from keras.layers import Conv2D,MaxPool2D, Flatten, Dense, Dropout\n",
        "\n",
        "from keras.preprocessing.image import ImageDataGenerator\n",
        "import numpy as np\n",
        "\n",
        "import tensorflow as tf"
      ]
    },
    {
      "cell_type": "code",
      "execution_count": 3,
      "metadata": {
        "colab": {
          "base_uri": "https://localhost:8080/",
          "height": 35
        },
        "id": "_3-qiitKZZ6o",
        "outputId": "c9597969-5a77-47d6-f277-025fd6aaafd5"
      },
      "outputs": [
        {
          "output_type": "execute_result",
          "data": {
            "text/plain": [
              "'2.14.0'"
            ],
            "application/vnd.google.colaboratory.intrinsic+json": {
              "type": "string"
            }
          },
          "metadata": {},
          "execution_count": 3
        }
      ],
      "source": [
        "tf.__version__"
      ]
    },
    {
      "cell_type": "markdown",
      "metadata": {
        "id": "gbN_KQXrZgxL"
      },
      "source": [
        "\n",
        "## Part 1 - Data Preprocessing"
      ]
    },
    {
      "cell_type": "markdown",
      "metadata": {
        "id": "CA1ccPaefU9F"
      },
      "source": [
        "###**Create an object for training and testing data.**"
      ]
    },
    {
      "cell_type": "markdown",
      "metadata": {
        "id": "dhDOrpz4Zl0s"
      },
      "source": [
        "### Preprocessing the Training set"
      ]
    },
    {
      "cell_type": "code",
      "execution_count": 4,
      "metadata": {
        "id": "Jo73qEPLZiVz"
      },
      "outputs": [],
      "source": [
        "import pandas as pd"
      ]
    },
    {
      "cell_type": "code",
      "execution_count": 5,
      "metadata": {
        "colab": {
          "base_uri": "https://localhost:8080/"
        },
        "id": "LAc49QdWZ4U5",
        "outputId": "acd32ad2-626e-4383-9786-ed9b63bc0966"
      },
      "outputs": [
        {
          "output_type": "stream",
          "name": "stdout",
          "text": [
            "Found 500 images belonging to 5 classes.\n"
          ]
        }
      ],
      "source": [
        "train_datagen = ImageDataGenerator(rescale = 1./255,\n",
        "                                   shear_range = 0.2,\n",
        "                                   zoom_range = 0.2,\n",
        "                                   horizontal_flip = True)\n",
        "\n",
        "training_set = train_datagen.flow_from_directory('/content/flowers_multiclass_CNN/data/train',\n",
        "                                                 target_size = (224, 224))"
      ]
    },
    {
      "cell_type": "markdown",
      "metadata": {
        "id": "wmMdziU1aGST"
      },
      "source": [
        "### Preprocessing the Test set"
      ]
    },
    {
      "cell_type": "code",
      "execution_count": 6,
      "metadata": {
        "colab": {
          "base_uri": "https://localhost:8080/"
        },
        "id": "jDzQs1FraHIc",
        "outputId": "86e0a9f0-61a2-4143-d13a-d517773ca179"
      },
      "outputs": [
        {
          "output_type": "stream",
          "name": "stdout",
          "text": [
            "Found 419 images belonging to 5 classes.\n"
          ]
        }
      ],
      "source": [
        "test_datagen = ImageDataGenerator(rescale = 1./255)\n",
        "test_set = test_datagen.flow_from_directory('/content/flowers_multiclass_CNN/data/test',\n",
        "                                            target_size = (224, 224))"
      ]
    },
    {
      "cell_type": "markdown",
      "metadata": {
        "id": "rr4xxPnqaOQr"
      },
      "source": [
        "## Part 2 - Building the VGG model"
      ]
    },
    {
      "cell_type": "markdown",
      "metadata": {
        "id": "UDImZSr_aSTj"
      },
      "source": [
        "### Initialising the model\n",
        "\n",
        " Define the model as a sequential sequence of layers"
      ]
    },
    {
      "cell_type": "code",
      "execution_count": 7,
      "metadata": {
        "id": "LsQPFuLnaPY7"
      },
      "outputs": [],
      "source": [
        "vgg = Sequential()"
      ]
    },
    {
      "cell_type": "markdown",
      "metadata": {
        "id": "kuDYj_S3a1s8"
      },
      "source": [
        "### Step 1 - Convolution\n",
        "\n",
        "2 x convolution layer of 64 channel of 3x3 kernel and same padding."
      ]
    },
    {
      "cell_type": "code",
      "execution_count": 8,
      "metadata": {
        "id": "vPWJlyzea6Wb"
      },
      "outputs": [],
      "source": [
        "vgg.add(Conv2D(input_shape=(224,224,3),filters=64,kernel_size=(3,3),padding=\"same\", activation=\"relu\"))\n",
        "\n",
        "vgg.add(Conv2D(filters=64,kernel_size=(3,3),padding=\"same\", activation=\"relu\"))"
      ]
    },
    {
      "cell_type": "markdown",
      "metadata": {
        "id": "Rg2oRWEvba2i"
      },
      "source": [
        "### Step 2 - Pooling\n",
        "\n",
        "1 x maxpool layer of 2x2 pool size and stride 2x2."
      ]
    },
    {
      "cell_type": "code",
      "execution_count": 9,
      "metadata": {
        "id": "SD2NA3rubceb"
      },
      "outputs": [],
      "source": [
        "vgg.add(MaxPool2D(pool_size=(2,2),strides=(2,2)))"
      ]
    },
    {
      "cell_type": "markdown",
      "metadata": {
        "id": "dTKcwJjrciUK"
      },
      "source": [
        "### Adding convolutional layer\n",
        "\n",
        "2 x convolution layer of 128 channel of 3x3 kernel and same padding."
      ]
    },
    {
      "cell_type": "code",
      "execution_count": 10,
      "metadata": {
        "id": "LmyZdA76ckB0"
      },
      "outputs": [],
      "source": [
        "vgg.add(Conv2D(filters=128, kernel_size=(3,3), padding=\"same\", activation=\"relu\"))\n",
        "vgg.add(Conv2D(filters=128, kernel_size=(3,3), padding=\"same\", activation=\"relu\"))"
      ]
    },
    {
      "cell_type": "markdown",
      "metadata": {
        "id": "GvQv9BdJg5Z5"
      },
      "source": [
        "### Adding pooling layer\n",
        "\n"
      ]
    },
    {
      "cell_type": "code",
      "execution_count": 11,
      "metadata": {
        "id": "cHpKSaJPgxhx"
      },
      "outputs": [],
      "source": [
        "vgg.add(MaxPool2D(pool_size=(2,2),strides=(2,2)))\n"
      ]
    },
    {
      "cell_type": "markdown",
      "metadata": {
        "id": "AIUjJOyXh5PK"
      },
      "source": [
        "\n",
        "\n",
        "\n",
        "### Adding a convolutional layer\n",
        "\n",
        "2 x convolution layer of 256 channel of 3x3 kernel and same padding."
      ]
    },
    {
      "cell_type": "code",
      "execution_count": 44,
      "metadata": {
        "id": "x4UqaDtfhlXy"
      },
      "outputs": [],
      "source": [
        "vgg.add(Conv2D(filters=256, kernel_size=(3,3), padding=\"same\", activation=\"relu\"))\n",
        "vgg.add(Conv2D(filters=256, kernel_size=3, padding=\"same\", activation=\"relu\"))\n",
        "\n"
      ]
    },
    {
      "cell_type": "markdown",
      "metadata": {
        "id": "NHuG2jc1ieSZ"
      },
      "source": [
        "### Adding pooling layer\n"
      ]
    },
    {
      "cell_type": "code",
      "execution_count": 45,
      "metadata": {
        "id": "rB52N5VDho9i"
      },
      "outputs": [],
      "source": [
        "vgg.add(MaxPool2D(pool_size=(2,2),strides=(2,2)))\n"
      ]
    },
    {
      "cell_type": "markdown",
      "metadata": {
        "id": "4pgkN_FciHni"
      },
      "source": [
        "### Adding a convolutional layer\n",
        "\n",
        "2 x convolution layer of 512 channel of 3x3 kernel and same padding."
      ]
    },
    {
      "cell_type": "code",
      "execution_count": 46,
      "metadata": {
        "id": "vAK7WWeIhquK"
      },
      "outputs": [],
      "source": [
        "vgg.add(Conv2D(filters=512, kernel_size=(3,3), padding=\"same\", activation=\"relu\"))\n",
        "vgg.add(Conv2D(filters=512, kernel_size=(3,3), padding=\"same\", activation=\"relu\"))\n",
        "vgg.add(Conv2D(filters=512, kernel_size=(3,3), padding=\"same\", activation=\"relu\"))\n"
      ]
    },
    {
      "cell_type": "markdown",
      "metadata": {
        "id": "-nfTa3RbiiOB"
      },
      "source": [
        "### Adding pooling layer\n"
      ]
    },
    {
      "cell_type": "code",
      "execution_count": 47,
      "metadata": {
        "id": "ioz9p6F2hsx5"
      },
      "outputs": [],
      "source": [
        "vgg.add(MaxPool2D(pool_size=(2,2),strides=(2,2)))\n"
      ]
    },
    {
      "cell_type": "markdown",
      "metadata": {
        "id": "tDA_E45PiL1p"
      },
      "source": [
        "### Adding a convolutional layer\n",
        "\n",
        "2 x convolution layer of 512 channel of 3x3 kernel and same padding."
      ]
    },
    {
      "cell_type": "code",
      "execution_count": 48,
      "metadata": {
        "id": "wBAXtNjzhvRC"
      },
      "outputs": [],
      "source": [
        "vgg.add(Conv2D(filters=512, kernel_size=(3,3), padding=\"same\", activation=\"relu\"))\n",
        "vgg.add(Conv2D(filters=512, kernel_size=(3,3), padding=\"same\", activation=\"relu\"))\n",
        "vgg.add(Conv2D(filters=512, kernel_size=(3,3), padding=\"same\", activation=\"relu\"))\n"
      ]
    },
    {
      "cell_type": "markdown",
      "metadata": {
        "id": "CMz5RVq4ijqR"
      },
      "source": [
        "### Adding pooling layer\n"
      ]
    },
    {
      "cell_type": "code",
      "execution_count": 49,
      "metadata": {
        "id": "upgu9hhJhyoC"
      },
      "outputs": [],
      "source": [
        "vgg.add(MaxPool2D(pool_size=(2,2),strides=(2,2)))"
      ]
    },
    {
      "cell_type": "markdown",
      "metadata": {
        "id": "yGo7aoyIjE3S"
      },
      "source": [
        "### Step 3 - Flattening"
      ]
    },
    {
      "cell_type": "code",
      "execution_count": 50,
      "metadata": {
        "id": "RiD-xfgyjIuT"
      },
      "outputs": [],
      "source": [
        "vgg.add(Flatten())\n"
      ]
    },
    {
      "cell_type": "markdown",
      "metadata": {
        "id": "QAc7Kxjbjqg6"
      },
      "source": [
        "### Step 4 - Full Connection\n",
        "\n",
        "Pass  the data to the dense layer"
      ]
    },
    {
      "cell_type": "code",
      "execution_count": 51,
      "metadata": {
        "id": "OCjdERxUjOmT"
      },
      "outputs": [],
      "source": [
        "vgg.add(Dense(units=4096,activation=\"relu\"))\n",
        "vgg.add(Dropout(0.5))\n",
        "vgg.add(Dense(units=4096,activation=\"relu\"))\n",
        "vgg.add(Dropout(0.5))\n"
      ]
    },
    {
      "cell_type": "markdown",
      "metadata": {
        "id": "7fHyP1DUjYu6"
      },
      "source": [
        "### Step 5 - Output Layer\n",
        "\n",
        "\n",
        "\n",
        "\n"
      ]
    },
    {
      "cell_type": "code",
      "execution_count": 52,
      "metadata": {
        "id": "dVv-hzQ9jYIS"
      },
      "outputs": [],
      "source": [
        "vgg.add(Dense(units=5, activation=\"softmax\"))"
      ]
    },
    {
      "cell_type": "markdown",
      "metadata": {
        "id": "xjHSt1MskDox"
      },
      "source": [
        "## Part 3 - Training the model"
      ]
    },
    {
      "cell_type": "markdown",
      "metadata": {
        "id": "9jbavWwDkIkp"
      },
      "source": [
        "### Compiling the model"
      ]
    },
    {
      "cell_type": "code",
      "execution_count": 53,
      "metadata": {
        "id": "__vIBCyAkNsJ"
      },
      "outputs": [],
      "source": [
        "vgg.compile(optimizer = 'adam', loss = 'categorical_crossentropy', metrics = ['accuracy'])"
      ]
    },
    {
      "cell_type": "code",
      "execution_count": 54,
      "metadata": {
        "colab": {
          "base_uri": "https://localhost:8080/"
        },
        "id": "viQQKWx9lU95",
        "outputId": "3d123191-9c9f-4b80-ed04-f33a7cbfa11d"
      },
      "outputs": [
        {
          "output_type": "stream",
          "name": "stdout",
          "text": [
            "Model: \"sequential\"\n",
            "_________________________________________________________________\n",
            " Layer (type)                Output Shape              Param #   \n",
            "=================================================================\n",
            " conv2d (Conv2D)             (None, 224, 224, 64)      1792      \n",
            "                                                                 \n",
            " conv2d_1 (Conv2D)           (None, 224, 224, 64)      36928     \n",
            "                                                                 \n",
            " max_pooling2d (MaxPooling2  (None, 112, 112, 64)      0         \n",
            " D)                                                              \n",
            "                                                                 \n",
            " conv2d_2 (Conv2D)           (None, 112, 112, 128)     73856     \n",
            "                                                                 \n",
            " conv2d_3 (Conv2D)           (None, 112, 112, 128)     147584    \n",
            "                                                                 \n",
            " max_pooling2d_1 (MaxPoolin  (None, 56, 56, 128)       0         \n",
            " g2D)                                                            \n",
            "                                                                 \n",
            " conv2d_4 (Conv2D)           (None, 56, 56, 64)        73792     \n",
            "                                                                 \n",
            " conv2d_5 (Conv2D)           (None, 56, 56, 64)        36928     \n",
            "                                                                 \n",
            " conv2d_7 (Conv2D)           (None, 56, 56, 256)       147712    \n",
            "                                                                 \n",
            " conv2d_8 (Conv2D)           (None, 56, 56, 256)       590080    \n",
            "                                                                 \n",
            " max_pooling2d_2 (MaxPoolin  (None, 28, 28, 256)       0         \n",
            " g2D)                                                            \n",
            "                                                                 \n",
            " conv2d_9 (Conv2D)           (None, 28, 28, 512)       1180160   \n",
            "                                                                 \n",
            " conv2d_10 (Conv2D)          (None, 28, 28, 512)       2359808   \n",
            "                                                                 \n",
            " conv2d_11 (Conv2D)          (None, 28, 28, 512)       2359808   \n",
            "                                                                 \n",
            " max_pooling2d_3 (MaxPoolin  (None, 14, 14, 512)       0         \n",
            " g2D)                                                            \n",
            "                                                                 \n",
            " conv2d_12 (Conv2D)          (None, 14, 14, 512)       2359808   \n",
            "                                                                 \n",
            " conv2d_13 (Conv2D)          (None, 14, 14, 512)       2359808   \n",
            "                                                                 \n",
            " conv2d_14 (Conv2D)          (None, 14, 14, 512)       2359808   \n",
            "                                                                 \n",
            " max_pooling2d_4 (MaxPoolin  (None, 7, 7, 512)         0         \n",
            " g2D)                                                            \n",
            "                                                                 \n",
            " flatten (Flatten)           (None, 25088)             0         \n",
            "                                                                 \n",
            " dense (Dense)               (None, 4096)              102764544 \n",
            "                                                                 \n",
            " dropout (Dropout)           (None, 4096)              0         \n",
            "                                                                 \n",
            " dense_1 (Dense)             (None, 4096)              16781312  \n",
            "                                                                 \n",
            " dropout_1 (Dropout)         (None, 4096)              0         \n",
            "                                                                 \n",
            " dense_2 (Dense)             (None, 5)                 20485     \n",
            "                                                                 \n",
            "=================================================================\n",
            "Total params: 133654213 (509.85 MB)\n",
            "Trainable params: 133654213 (509.85 MB)\n",
            "Non-trainable params: 0 (0.00 Byte)\n",
            "_________________________________________________________________\n"
          ]
        }
      ],
      "source": [
        "vgg.summary()"
      ]
    },
    {
      "cell_type": "markdown",
      "metadata": {
        "id": "etWegvqvlF1D"
      },
      "source": [
        "### Training the model on the Training set and evaluating it on the Test set"
      ]
    },
    {
      "cell_type": "code",
      "execution_count": 55,
      "metadata": {
        "colab": {
          "base_uri": "https://localhost:8080/"
        },
        "id": "AkOltZ24leoB",
        "outputId": "4a7dbdbf-c189-472c-d4d3-0e8cd623d666"
      },
      "outputs": [
        {
          "output_type": "stream",
          "name": "stderr",
          "text": [
            "WARNING:tensorflow:`period` argument is deprecated. Please use `save_freq` to specify the frequency in number of batches seen.\n"
          ]
        }
      ],
      "source": [
        "from keras.callbacks import ModelCheckpoint, EarlyStopping\n",
        "checkpoint = ModelCheckpoint(\"vgg16_1.h5\", monitor='val_acc', verbose=1, save_best_only=True, save_weights_only=False, mode='auto', period=1)\n",
        "early = EarlyStopping(monitor='val_acc', min_delta=0, patience=20, verbose=1, mode='auto')\n",
        "\n"
      ]
    },
    {
      "cell_type": "code",
      "source": [
        "#vgg.fit(steps_per_epoch=5,x=training_set, validation_data = test_set, validation_steps=10,epochs=3,callbacks=[checkpoint,early])\n",
        "vgg.fit(x=training_set, validation_data = test_set, epochs=25)"
      ],
      "metadata": {
        "id": "HnY9DqRAKpl3",
        "colab": {
          "base_uri": "https://localhost:8080/"
        },
        "outputId": "423017ea-2eff-4979-fb7a-c27f8402cac6"
      },
      "execution_count": 85,
      "outputs": [
        {
          "output_type": "stream",
          "name": "stdout",
          "text": [
            "Epoch 1/25\n",
            "16/16 [==============================] - 11s 674ms/step - loss: 1.6100 - accuracy: 0.2140 - val_loss: 1.6090 - val_accuracy: 0.2339\n",
            "Epoch 2/25\n",
            "16/16 [==============================] - 11s 707ms/step - loss: 1.6092 - accuracy: 0.1960 - val_loss: 1.6085 - val_accuracy: 0.2339\n",
            "Epoch 3/25\n",
            "16/16 [==============================] - 12s 732ms/step - loss: 1.6104 - accuracy: 0.1760 - val_loss: 1.6079 - val_accuracy: 0.2363\n",
            "Epoch 4/25\n",
            "16/16 [==============================] - 10s 637ms/step - loss: 1.6097 - accuracy: 0.1820 - val_loss: 1.6093 - val_accuracy: 0.2339\n",
            "Epoch 5/25\n",
            "16/16 [==============================] - 11s 709ms/step - loss: 1.6101 - accuracy: 0.2040 - val_loss: 1.6089 - val_accuracy: 0.2363\n",
            "Epoch 6/25\n",
            "16/16 [==============================] - 11s 705ms/step - loss: 1.6098 - accuracy: 0.2040 - val_loss: 1.6114 - val_accuracy: 0.1671\n",
            "Epoch 7/25\n",
            "16/16 [==============================] - 11s 675ms/step - loss: 1.6103 - accuracy: 0.2040 - val_loss: 1.6113 - val_accuracy: 0.1241\n",
            "Epoch 8/25\n",
            "16/16 [==============================] - 10s 611ms/step - loss: 1.6101 - accuracy: 0.2180 - val_loss: 1.6111 - val_accuracy: 0.1241\n",
            "Epoch 9/25\n",
            "16/16 [==============================] - 11s 671ms/step - loss: 1.6096 - accuracy: 0.1940 - val_loss: 1.6099 - val_accuracy: 0.1241\n",
            "Epoch 10/25\n",
            "16/16 [==============================] - 11s 696ms/step - loss: 1.6102 - accuracy: 0.1880 - val_loss: 1.6104 - val_accuracy: 0.1241\n",
            "Epoch 11/25\n",
            "16/16 [==============================] - 10s 617ms/step - loss: 1.6092 - accuracy: 0.1940 - val_loss: 1.6101 - val_accuracy: 0.1241\n",
            "Epoch 12/25\n",
            "16/16 [==============================] - 12s 708ms/step - loss: 1.6105 - accuracy: 0.1840 - val_loss: 1.6111 - val_accuracy: 0.1671\n",
            "Epoch 13/25\n",
            "16/16 [==============================] - 11s 725ms/step - loss: 1.6102 - accuracy: 0.1700 - val_loss: 1.6090 - val_accuracy: 0.2339\n",
            "Epoch 14/25\n",
            "16/16 [==============================] - 11s 714ms/step - loss: 1.6107 - accuracy: 0.1800 - val_loss: 1.6102 - val_accuracy: 0.1241\n",
            "Epoch 15/25\n",
            "16/16 [==============================] - 10s 625ms/step - loss: 1.6104 - accuracy: 0.1660 - val_loss: 1.6087 - val_accuracy: 0.2339\n",
            "Epoch 16/25\n",
            "16/16 [==============================] - 11s 704ms/step - loss: 1.6104 - accuracy: 0.1900 - val_loss: 1.6083 - val_accuracy: 0.2339\n",
            "Epoch 17/25\n",
            "16/16 [==============================] - 12s 721ms/step - loss: 1.6089 - accuracy: 0.1980 - val_loss: 1.6104 - val_accuracy: 0.1671\n",
            "Epoch 18/25\n",
            "16/16 [==============================] - 11s 705ms/step - loss: 1.6097 - accuracy: 0.2020 - val_loss: 1.6102 - val_accuracy: 0.1241\n",
            "Epoch 19/25\n",
            "16/16 [==============================] - 12s 706ms/step - loss: 1.6097 - accuracy: 0.2100 - val_loss: 1.6098 - val_accuracy: 0.1241\n",
            "Epoch 20/25\n",
            "16/16 [==============================] - 11s 707ms/step - loss: 1.6097 - accuracy: 0.1800 - val_loss: 1.6089 - val_accuracy: 0.2339\n",
            "Epoch 21/25\n",
            "16/16 [==============================] - 11s 668ms/step - loss: 1.6098 - accuracy: 0.2060 - val_loss: 1.6091 - val_accuracy: 0.2339\n",
            "Epoch 22/25\n",
            "16/16 [==============================] - 12s 740ms/step - loss: 1.6093 - accuracy: 0.1940 - val_loss: 1.6096 - val_accuracy: 0.1671\n",
            "Epoch 23/25\n",
            "16/16 [==============================] - 11s 706ms/step - loss: 1.6099 - accuracy: 0.1940 - val_loss: 1.6089 - val_accuracy: 0.2339\n",
            "Epoch 24/25\n",
            "16/16 [==============================] - 10s 630ms/step - loss: 1.6097 - accuracy: 0.1980 - val_loss: 1.6100 - val_accuracy: 0.1671\n",
            "Epoch 25/25\n",
            "16/16 [==============================] - 10s 627ms/step - loss: 1.6096 - accuracy: 0.1940 - val_loss: 1.6115 - val_accuracy: 0.1241\n"
          ]
        },
        {
          "output_type": "execute_result",
          "data": {
            "text/plain": [
              "<keras.src.callbacks.History at 0x7c32c6e83730>"
            ]
          },
          "metadata": {},
          "execution_count": 85
        }
      ]
    },
    {
      "cell_type": "markdown",
      "metadata": {
        "id": "yJHm_HH-yaNP"
      },
      "source": [
        "## Part 4 - Making a single prediction\n"
      ]
    },
    {
      "cell_type": "code",
      "execution_count": 89,
      "metadata": {
        "colab": {
          "base_uri": "https://localhost:8080/",
          "height": 310
        },
        "id": "cfBYD6FJyTb6",
        "outputId": "72f0b596-fb62-4903-f2fe-262ed7a47773"
      },
      "outputs": [
        {
          "output_type": "stream",
          "name": "stdout",
          "text": [
            "1/1 [==============================] - 0s 23ms/step\n",
            "[[0.839271   0.01277285 0.06994646 0.07675334 0.00125633]]\n",
            "{'daisy': 0, 'dandelion': 1, 'rose': 2, 'sunflower': 3, 'tulip': 4}\n",
            "tulip\n"
          ]
        },
        {
          "output_type": "display_data",
          "data": {
            "text/plain": [
              "<PIL.Image.Image image mode=RGB size=224x224>"
            ],
            "image/png": "[encoded data removed]"
          },
          "metadata": {}
        }
      ],
      "source": [
        "import numpy as np\n",
        "import matplotlib.pyplot as plt\n",
        "import matplotlib.image as mpimg\n",
        "from keras.preprocessing import image\n",
        "from keras.models import load_model\n",
        "\n",
        "\n",
        "test_image = image.load_img('/content/flowers_multiclass_CNN/Predict_data/sunflower_1.jpg',\n",
        "                            target_size = (224, 224))\n",
        "im=test_image\n",
        "\n",
        "test_image = np.expand_dims(test_image, axis = 0)\n",
        "\n",
        "result = vgg.predict(test_image)\n",
        "print(result)\n",
        "print(training_set.class_indices)\n",
        "label=[\"daisy\", \"dandelion\", \"rose\", \"sunflower\", \"tulip\"]\n",
        "\n",
        "\n",
        "\n",
        "for i in label:\n",
        "    if result[0][label.index(i)]==1:\n",
        "         break\n",
        "\n",
        "\n",
        "\n",
        "\n",
        "\n",
        "\n",
        "prediction=i\n",
        "im.show()\n",
        "\n",
        "\n",
        "\n",
        "print(prediction)\n",
        "\n",
        "display(im)"
      ]
    }
  ],
  "metadata": {
    "colab": {
      "provenance": [],
      "gpuType": "T4"
    },
    "kernelspec": {
      "display_name": "Python 3",
      "name": "python3"
    },
    "language_info": {
      "name": "python"
    },
    "accelerator": "GPU"
  },
  "nbformat": 4,
  "nbformat_minor": 0
}